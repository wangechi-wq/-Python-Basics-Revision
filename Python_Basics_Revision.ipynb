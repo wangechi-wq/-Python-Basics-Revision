{
  "nbformat": 4,
  "nbformat_minor": 0,
  "metadata": {
    "colab": {
      "provenance": [],
      "authorship_tag": "ABX9TyP/Cxl3jHvxnjXJK/W0Xrnx",
      "include_colab_link": true
    },
    "kernelspec": {
      "name": "python3",
      "display_name": "Python 3"
    },
    "language_info": {
      "name": "python"
    }
  },
  "cells": [
    {
      "cell_type": "markdown",
      "metadata": {
        "id": "view-in-github",
        "colab_type": "text"
      },
      "source": [
        "<a href=\"https://colab.research.google.com/github/wangechi-wq/-Python-Basics-Revision/blob/main/Python_Basics_Revision.ipynb\" target=\"_parent\"><img src=\"https://colab.research.google.com/assets/colab-badge.svg\" alt=\"Open In Colab\"/></a>"
      ]
    },
    {
      "cell_type": "markdown",
      "source": [
        "## String Concatenation"
      ],
      "metadata": {
        "id": "xs1aVvWiBHmn"
      }
    },
    {
      "cell_type": "code",
      "execution_count": null,
      "metadata": {
        "colab": {
          "base_uri": "https://localhost:8080/"
        },
        "id": "12j15sA4BAYs",
        "outputId": "ea52d659-486f-40aa-c5f9-6682926d1242"
      },
      "outputs": [
        {
          "output_type": "stream",
          "name": "stdout",
          "text": [
            "i love myself \n"
          ]
        }
      ],
      "source": [
        "print('i '+'love '+ 'myself ')"
      ]
    },
    {
      "cell_type": "code",
      "source": [
        "#using format() method for concatenation\n",
        "fname = 'Keshi '\n",
        "lname = 'Mungai'\n",
        "\n",
        "full_name = fname + lname\n",
        "\n",
        "print('My name is {}'.format(full_name))"
      ],
      "metadata": {
        "colab": {
          "base_uri": "https://localhost:8080/"
        },
        "id": "O_FflAYXBmGa",
        "outputId": "23d36797-cd2a-48d9-f8ad-e9df5baf6ad7"
      },
      "execution_count": null,
      "outputs": [
        {
          "output_type": "stream",
          "name": "stdout",
          "text": [
            "My name is Keshi Mungai\n"
          ]
        }
      ]
    },
    {
      "cell_type": "code",
      "source": [
        "#using fstrings to concatenate\n",
        "fname = 'Keshi'\n",
        "print(f\"Hello {fname}\")"
      ],
      "metadata": {
        "colab": {
          "base_uri": "https://localhost:8080/"
        },
        "id": "JStg-H57CoA0",
        "outputId": "8df23e6d-1b3f-462f-9ad9-444926da57fc"
      },
      "execution_count": null,
      "outputs": [
        {
          "output_type": "stream",
          "name": "stdout",
          "text": [
            "Hello Keshi\n"
          ]
        }
      ]
    },
    {
      "cell_type": "markdown",
      "source": [
        "## String Indexing"
      ],
      "metadata": {
        "id": "R2R8Kmt5EYBB"
      }
    },
    {
      "cell_type": "code",
      "source": [
        "name = 'keshie'\n",
        "print (name[0])\n",
        "print (name[1])\n",
        "print (name[2])\n",
        "print (name[3])\n",
        "print (name[4])\n",
        "print (name[5])"
      ],
      "metadata": {
        "colab": {
          "base_uri": "https://localhost:8080/"
        },
        "id": "xvDy4vA0CnzC",
        "outputId": "0ee70a37-1877-4a0b-a30d-3077e30d8cf4"
      },
      "execution_count": null,
      "outputs": [
        {
          "output_type": "stream",
          "name": "stdout",
          "text": [
            "k\n",
            "e\n",
            "s\n",
            "h\n",
            "i\n",
            "e\n"
          ]
        }
      ]
    },
    {
      "cell_type": "markdown",
      "source": [
        "## String slicing"
      ],
      "metadata": {
        "id": "Q6dRyzCGFH4e"
      }
    },
    {
      "cell_type": "code",
      "source": [
        "#The first number in the bracket is the starting index; the second is the stopping index.\n",
        "name = \"Mungai\"\n",
        "print (name[0:2])\n",
        "print (name[0:3])\n",
        "print (name[1:3])\n",
        "print (name[3:5])\n",
        "print (name[0:4])"
      ],
      "metadata": {
        "colab": {
          "base_uri": "https://localhost:8080/"
        },
        "id": "qQabvC7IEz2Y",
        "outputId": "922be168-b700-4d4b-aea2-ee3e553a4a9d"
      },
      "execution_count": null,
      "outputs": [
        {
          "output_type": "stream",
          "name": "stdout",
          "text": [
            "Mu\n",
            "Mun\n",
            "un\n",
            "ga\n",
            "Mung\n"
          ]
        }
      ]
    },
    {
      "cell_type": "markdown",
      "source": [
        "## String Manipulation"
      ],
      "metadata": {
        "id": "KiXHsGvgGR4U"
      }
    },
    {
      "cell_type": "code",
      "source": [
        "#The title method capitalizes all first letters in each word of a string. \n",
        "name = \"keshie\"\n",
        "print(name.title())"
      ],
      "metadata": {
        "colab": {
          "base_uri": "https://localhost:8080/"
        },
        "id": "Am2ce_EMEzq1",
        "outputId": "1c06e31e-24e5-4760-b3f2-170670083dfd"
      },
      "execution_count": null,
      "outputs": [
        {
          "output_type": "stream",
          "name": "stdout",
          "text": [
            "Keshie\n"
          ]
        }
      ]
    },
    {
      "cell_type": "code",
      "source": [
        "#This method converts a string to uppercase.\n",
        "word = \"i LOve CODing\"\n",
        "print(word.upper())"
      ],
      "metadata": {
        "colab": {
          "base_uri": "https://localhost:8080/"
        },
        "id": "IQaGex2pEzgH",
        "outputId": "49cc5e19-be1b-49bc-bbcf-299701ac4c67"
      },
      "execution_count": null,
      "outputs": [
        {
          "output_type": "stream",
          "name": "stdout",
          "text": [
            "I LOVE CODING\n"
          ]
        }
      ]
    },
    {
      "cell_type": "code",
      "source": [
        "#This is the opposite of the .upper(), it converts a given string to lowercase.\n",
        "word2 = \"i LOve CODing\"\n",
        "print(word2.lower())"
      ],
      "metadata": {
        "colab": {
          "base_uri": "https://localhost:8080/"
        },
        "id": "bRUaN30kHK6T",
        "outputId": "bc2b086b-0b16-42b1-d400-f08351eda7a8"
      },
      "execution_count": null,
      "outputs": [
        {
          "output_type": "stream",
          "name": "stdout",
          "text": [
            "i love coding\n"
          ]
        }
      ]
    },
    {
      "cell_type": "code",
      "source": [
        "#The find method will search for any string we ask it to\n",
        "#Note that the method returns the index of the word in the sentence.\n",
        "sentense = \"Python is easier than Java programming\"\n",
        "print(sentense.find('Java'))"
      ],
      "metadata": {
        "colab": {
          "base_uri": "https://localhost:8080/"
        },
        "id": "w5grVim-HKvK",
        "outputId": "89d846a3-543e-4566-f9d0-5cbc04092d48"
      },
      "execution_count": null,
      "outputs": [
        {
          "output_type": "stream",
          "name": "stdout",
          "text": [
            "22\n"
          ]
        }
      ]
    },
    {
      "cell_type": "markdown",
      "source": [
        "## Conditional statements"
      ],
      "metadata": {
        "id": "cCgnWkKzIm57"
      }
    },
    {
      "cell_type": "code",
      "source": [
        "#if statement\n",
        "x = 2\n",
        "y= 4\n",
        "if x < y:\n",
        "  print(\"X is greater than y\")"
      ],
      "metadata": {
        "colab": {
          "base_uri": "https://localhost:8080/"
        },
        "id": "I4OoDQlHIh6j",
        "outputId": "201f53f4-69c1-40e8-efac-2ddcfed85161"
      },
      "execution_count": null,
      "outputs": [
        {
          "output_type": "stream",
          "name": "stdout",
          "text": [
            "X is greater than y\n"
          ]
        }
      ]
    },
    {
      "cell_type": "code",
      "source": [
        "#if else statement\n",
        "x = 2\n",
        "y= 4\n",
        "if x > y:\n",
        "  print(\"X is greater than y\")\n",
        "else:\n",
        "  print(\"Y is greater than x\")\n",
        "    "
      ],
      "metadata": {
        "colab": {
          "base_uri": "https://localhost:8080/"
        },
        "id": "A1fj1KuRJJkm",
        "outputId": "2e26cb18-fba3-486b-9d38-27138e552155"
      },
      "execution_count": null,
      "outputs": [
        {
          "output_type": "stream",
          "name": "stdout",
          "text": [
            "Y is greater than x\n"
          ]
        }
      ]
    },
    {
      "cell_type": "code",
      "source": [
        "#elif statement\n",
        "x = 2\n",
        "y= 4\n",
        "if x > y:\n",
        "  print(\"X is greater than y\")\n",
        "elif x==y:\n",
        "  print(\"X is equal to y\")\n",
        "else:\n",
        "  print(\"Y is greater than x\")\n",
        "    "
      ],
      "metadata": {
        "colab": {
          "base_uri": "https://localhost:8080/"
        },
        "id": "XEMLx4r_XIwV",
        "outputId": "765557b5-1bd8-49ca-b37e-d405799ebbdd"
      },
      "execution_count": null,
      "outputs": [
        {
          "output_type": "stream",
          "name": "stdout",
          "text": [
            "Y is greater than x\n"
          ]
        }
      ]
    },
    {
      "cell_type": "markdown",
      "source": [
        "## Lists\n",
        "\n",
        "A list is a data structure in Python that is a mutable, ordered sequence of elements.\n",
        "\n",
        "Mutable means that you can change the items inside, while ordered sequence is in reference to index location. The first element in a list will always be located at index 0."
      ],
      "metadata": {
        "id": "6_d5_9ydXth6"
      }
    },
    {
      "cell_type": "code",
      "source": [
        "#creating a list\n",
        "classmates = [\"Keshi\",\"Mungai\", \"Shii\"]\n",
        "print(classmates[0])"
      ],
      "metadata": {
        "colab": {
          "base_uri": "https://localhost:8080/"
        },
        "id": "fNJeRnDaXpJR",
        "outputId": "f997feb2-adff-4a94-f1f9-114ee6f1555a"
      },
      "execution_count": null,
      "outputs": [
        {
          "output_type": "stream",
          "name": "stdout",
          "text": [
            "Keshi\n"
          ]
        }
      ]
    },
    {
      "cell_type": "code",
      "source": [
        "#lists caan have different data types\n",
        "lists = [\"food\",\"juice\",\"Salad\",1,2]\n",
        "print(lists[2])\n",
        "print(lists[4])"
      ],
      "metadata": {
        "colab": {
          "base_uri": "https://localhost:8080/"
        },
        "id": "skqcZ8WAYOKK",
        "outputId": "bd3b303a-3612-4002-feb0-b0d9b1545fab"
      },
      "execution_count": null,
      "outputs": [
        {
          "output_type": "stream",
          "name": "stdout",
          "text": [
            "Salad\n",
            "2\n"
          ]
        }
      ]
    },
    {
      "cell_type": "code",
      "source": [
        "# list within a list\n",
        "lists = [\"food\",\"juice\",\"Salad\",1,2,[\"Jane\",\"Joy\"],50]\n",
        "print(lists[2])\n",
        "print(lists[5])"
      ],
      "metadata": {
        "colab": {
          "base_uri": "https://localhost:8080/"
        },
        "id": "mS_pwQHTYulk",
        "outputId": "0677423b-15e2-4609-c2a5-91d680f9fde7"
      },
      "execution_count": null,
      "outputs": [
        {
          "output_type": "stream",
          "name": "stdout",
          "text": [
            "Salad\n",
            "['Jane', 'Joy']\n"
          ]
        }
      ]
    },
    {
      "cell_type": "markdown",
      "source": [
        "## Sort Function"
      ],
      "metadata": {
        "id": "IlZw5nRNgjTG"
      }
    },
    {
      "cell_type": "code",
      "source": [
        "#The sort() method is a built-in Python method that, by default, sorts the list in ascending order.\n",
        "price = [100,50,1000,150]\n",
        "price.sort()\n",
        "print(price)"
      ],
      "metadata": {
        "colab": {
          "base_uri": "https://localhost:8080/"
        },
        "id": "DnBbCXoUgn4o",
        "outputId": "8bf0109d-d362-4553-ed9c-95ec60e4a042"
      },
      "execution_count": null,
      "outputs": [
        {
          "output_type": "stream",
          "name": "stdout",
          "text": [
            "[50, 100, 150, 1000]\n"
          ]
        }
      ]
    },
    {
      "cell_type": "code",
      "source": [],
      "metadata": {
        "id": "XRG3mZihhXZK"
      },
      "execution_count": null,
      "outputs": []
    },
    {
      "cell_type": "code",
      "source": [],
      "metadata": {
        "id": "hXwhli4ehWsJ"
      },
      "execution_count": null,
      "outputs": []
    }
  ]
}